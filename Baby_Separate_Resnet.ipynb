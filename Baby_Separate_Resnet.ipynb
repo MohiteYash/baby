{
  "nbformat": 4,
  "nbformat_minor": 0,
  "metadata": {
    "colab": {
      "provenance": [],
      "gpuType": "T4",
      "mount_file_id": "1HZAK8m7MRkDOj4Gji2GLY_b5jsRzU5fz",
      "authorship_tag": "ABX9TyMQYcmLB/YntETqq12vUH4h",
      "include_colab_link": true
    },
    "kernelspec": {
      "name": "python3",
      "display_name": "Python 3"
    },
    "language_info": {
      "name": "python"
    },
    "accelerator": "GPU"
  },
  "cells": [
    {
      "cell_type": "markdown",
      "metadata": {
        "id": "view-in-github",
        "colab_type": "text"
      },
      "source": [
        "<a href=\"https://colab.research.google.com/github/MohiteYash/baby/blob/resnet/Baby_Separate_Resnet.ipynb\" target=\"_parent\"><img src=\"https://colab.research.google.com/assets/colab-badge.svg\" alt=\"Open In Colab\"/></a>"
      ]
    },
    {
      "cell_type": "code",
      "source": [
        "import os\n",
        "import torch\n",
        "import torch.nn as nn\n",
        "import torch.optim as optim\n",
        "import torchvision.models as models\n",
        "import librosa\n",
        "import numpy as np\n",
        "from torch.utils.data import Dataset, DataLoader\n",
        "from sklearn.model_selection import train_test_split\n",
        "from sklearn.metrics import classification_report, accuracy_score\n",
        "from torch.cuda.amp import autocast, GradScaler  # Mixed Precision Training\n",
        "\n",
        "# Enable cuDNN Auto-tuner for Faster Convolutions\n",
        "torch.backends.cudnn.benchmark = True\n"
      ],
      "metadata": {
        "id": "r8YwGKTkfMQV"
      },
      "execution_count": 30,
      "outputs": []
    },
    {
      "cell_type": "code",
      "source": [
        "class BabyCryResNetDataset(Dataset):\n",
        "    def __init__(self, file_paths, labels, sr=22050):\n",
        "        self.file_paths = file_paths\n",
        "        self.labels = labels\n",
        "        self.sr = sr\n",
        "\n",
        "    def __len__(self):\n",
        "        return len(self.file_paths)\n",
        "\n",
        "    def __getitem__(self, idx):\n",
        "        file_path = self.file_paths[idx]\n",
        "        label = self.labels[idx]\n",
        "\n",
        "        # Load and Compute Mel Spectrogram\n",
        "        y, sr = librosa.load(file_path, sr=self.sr)\n",
        "        mel_spec = librosa.feature.melspectrogram(y=y, sr=sr, n_mels=128)\n",
        "        mel_spec = librosa.power_to_db(mel_spec, ref=np.max)\n",
        "\n",
        "        # Convert to Tensor\n",
        "        mel_spec = torch.tensor(mel_spec).unsqueeze(0)  # (1, 128, Time)\n",
        "        mel_spec_resized = torch.nn.functional.interpolate(mel_spec.unsqueeze(0), size=(224, 224), mode=\"bilinear\").squeeze(0)\n",
        "        resnet_input = torch.cat([mel_spec_resized] * 3, dim=0)  # (3, 224, 224)\n",
        "\n",
        "        return resnet_input, torch.tensor(label, dtype=torch.long)\n"
      ],
      "metadata": {
        "id": "QyTTP-I4fMTH"
      },
      "execution_count": 31,
      "outputs": []
    },
    {
      "cell_type": "code",
      "source": [
        "# Dataset Path\n",
        "data_dir = \"/content/drive/MyDrive/augmented_baby_cry\"\n",
        "file_paths, labels = [], []\n",
        "\n",
        "for class_idx, class_name in enumerate(os.listdir(data_dir)):\n",
        "    class_path = os.path.join(data_dir, class_name)\n",
        "    for fname in os.listdir(class_path):\n",
        "        if fname.endswith(\".wav\"):\n",
        "            file_paths.append(os.path.join(class_path, fname))\n",
        "            labels.append(class_idx)\n",
        "\n",
        "# Split dataset into training & testing\n",
        "train_paths, test_paths, train_labels, test_labels = train_test_split(file_paths, labels, test_size=0.2, random_state=42)\n",
        "\n",
        "# Optimized DataLoaders for Faster GPU Loading\n",
        "train_loader = DataLoader(BabyCryResNetDataset(train_paths, train_labels), batch_size=32, shuffle=True, num_workers=4, pin_memory=True)\n",
        "test_loader = DataLoader(BabyCryResNetDataset(test_paths, test_labels), batch_size=32, shuffle=False, num_workers=4, pin_memory=True)\n"
      ],
      "metadata": {
        "colab": {
          "base_uri": "https://localhost:8080/"
        },
        "id": "uj4yqFUufMXW",
        "outputId": "886e93ee-7059-4818-e30d-2ac18e10653b"
      },
      "execution_count": 32,
      "outputs": [
        {
          "output_type": "stream",
          "name": "stderr",
          "text": [
            "/usr/local/lib/python3.11/dist-packages/torch/utils/data/dataloader.py:624: UserWarning: This DataLoader will create 4 worker processes in total. Our suggested max number of worker in current system is 2, which is smaller than what this DataLoader is going to create. Please be aware that excessive worker creation might get DataLoader running slow or even freeze, lower the worker number to avoid potential slowness/freeze if necessary.\n",
            "  warnings.warn(\n"
          ]
        }
      ]
    },
    {
      "cell_type": "code",
      "source": [
        "class ResNet50Model(nn.Module):\n",
        "    def __init__(self, num_classes=5):\n",
        "        super(ResNet50Model, self).__init__()\n",
        "        self.resnet = models.resnet50(weights=models.ResNet50_Weights.IMAGENET1K_V1)\n",
        "        self.resnet.fc = nn.Linear(2048, num_classes)  # Replace final FC layer\n",
        "\n",
        "    def forward(self, x):\n",
        "        return self.resnet(x)\n",
        "\n",
        "# Initialize Model\n",
        "device = torch.device(\"cuda\" if torch.cuda.is_available() else \"cpu\")\n",
        "model = ResNet50Model(num_classes=5).to(device)\n"
      ],
      "metadata": {
        "id": "j8DEGkeefMcv"
      },
      "execution_count": 33,
      "outputs": []
    },
    {
      "cell_type": "code",
      "source": [
        "def train_model(model, train_loader, epochs=20, lr=0.001):\n",
        "    model.to(device)\n",
        "    criterion = nn.CrossEntropyLoss()\n",
        "    optimizer = optim.Adam(model.parameters(), lr=lr)\n",
        "\n",
        "    scaler = GradScaler()  # Mixed Precision Training\n",
        "\n",
        "    for epoch in range(epochs):\n",
        "        model.train()\n",
        "        total_loss = 0\n",
        "\n",
        "        for inputs, labels in train_loader:\n",
        "            inputs, labels = inputs.to(device), labels.to(device)\n",
        "\n",
        "            optimizer.zero_grad()\n",
        "\n",
        "            with autocast():  # Enables Mixed Precision Training\n",
        "                outputs = model(inputs)\n",
        "                loss = criterion(outputs, labels)\n",
        "\n",
        "            scaler.scale(loss).backward()\n",
        "            scaler.step(optimizer)\n",
        "            scaler.update()\n",
        "\n",
        "            total_loss += loss.item()\n",
        "\n",
        "        avg_loss = total_loss / len(train_loader)\n",
        "        print(f\"Epoch {epoch+1}/{epochs}, Loss: {avg_loss:.4f}\")\n",
        "\n",
        "def evaluate_model(model, test_loader):\n",
        "    model.eval()\n",
        "    y_true, y_pred = [], []\n",
        "\n",
        "    with torch.no_grad():\n",
        "        for inputs, labels in test_loader:\n",
        "            inputs, labels = inputs.to(device), labels.to(device)\n",
        "            outputs = model(inputs)\n",
        "            _, predicted = torch.max(outputs, 1)\n",
        "\n",
        "            y_true.extend(labels.cpu().numpy())\n",
        "            y_pred.extend(predicted.cpu().numpy())\n",
        "\n",
        "    acc = accuracy_score(y_true, y_pred) * 100\n",
        "    class_report = classification_report(y_true, y_pred, digits=2)\n",
        "\n",
        "    print(f\"\\nTest Accuracy: {acc:.2f}%\")\n",
        "    print(\"\\nClassification Report:\")\n",
        "    print(class_report)\n",
        "\n",
        "    return acc, class_report\n"
      ],
      "metadata": {
        "id": "F0RYS6A9fMff"
      },
      "execution_count": 34,
      "outputs": []
    },
    {
      "cell_type": "code",
      "source": [
        "# Train ResNet-50\n",
        "train_model(model, train_loader, epochs=20, lr=0.001)\n",
        "\n",
        "# Evaluate Model\n",
        "test_acc, class_report = evaluate_model(model, test_loader)\n",
        "\n",
        "# Save Trained Model\n",
        "model_path = \"resnet50_baby_cry.pth\"\n",
        "torch.save(model.state_dict(), model_path)\n",
        "print(f\"✅ Model Saved Successfully at {model_path}!\")\n"
      ],
      "metadata": {
        "colab": {
          "base_uri": "https://localhost:8080/"
        },
        "id": "0h1smkonfMiH",
        "outputId": "96697f86-7933-41b1-c99b-b8fe7378574f"
      },
      "execution_count": 35,
      "outputs": [
        {
          "output_type": "stream",
          "name": "stderr",
          "text": [
            "<ipython-input-34-77999d81ed3a>:6: FutureWarning: `torch.cuda.amp.GradScaler(args...)` is deprecated. Please use `torch.amp.GradScaler('cuda', args...)` instead.\n",
            "  scaler = GradScaler()  # Mixed Precision Training\n",
            "<ipython-input-34-77999d81ed3a>:17: FutureWarning: `torch.cuda.amp.autocast(args...)` is deprecated. Please use `torch.amp.autocast('cuda', args...)` instead.\n",
            "  with autocast():  # Enables Mixed Precision Training\n"
          ]
        },
        {
          "output_type": "stream",
          "name": "stdout",
          "text": [
            "Epoch 1/20, Loss: 1.1177\n",
            "Epoch 2/20, Loss: 0.4895\n",
            "Epoch 3/20, Loss: 0.5107\n",
            "Epoch 4/20, Loss: 0.3021\n",
            "Epoch 5/20, Loss: 0.1871\n",
            "Epoch 6/20, Loss: 0.1120\n",
            "Epoch 7/20, Loss: 0.1065\n",
            "Epoch 8/20, Loss: 0.1242\n",
            "Epoch 9/20, Loss: 0.1074\n",
            "Epoch 10/20, Loss: 0.0961\n",
            "Epoch 11/20, Loss: 0.1058\n",
            "Epoch 12/20, Loss: 0.0486\n",
            "Epoch 13/20, Loss: 0.0332\n",
            "Epoch 14/20, Loss: 0.1119\n",
            "Epoch 15/20, Loss: 0.1009\n",
            "Epoch 16/20, Loss: 0.0669\n",
            "Epoch 17/20, Loss: 0.0510\n",
            "Epoch 18/20, Loss: 0.0097\n",
            "Epoch 19/20, Loss: 0.0197\n",
            "Epoch 20/20, Loss: 0.0202\n",
            "\n",
            "Test Accuracy: 96.56%\n",
            "\n",
            "Classification Report:\n",
            "              precision    recall  f1-score   support\n",
            "\n",
            "           0       0.95      0.99      0.97        73\n",
            "           1       1.00      0.99      0.99        77\n",
            "           2       0.95      0.99      0.97        74\n",
            "           4       0.97      0.90      0.93        67\n",
            "\n",
            "    accuracy                           0.97       291\n",
            "   macro avg       0.97      0.96      0.96       291\n",
            "weighted avg       0.97      0.97      0.97       291\n",
            "\n",
            "✅ Model Saved Successfully at resnet50_baby_cry.pth!\n"
          ]
        }
      ]
    },
    {
      "cell_type": "code",
      "source": [],
      "metadata": {
        "id": "FVWWCXg4fMku"
      },
      "execution_count": null,
      "outputs": []
    },
    {
      "cell_type": "code",
      "source": [],
      "metadata": {
        "id": "KV1InozIfMnd"
      },
      "execution_count": null,
      "outputs": []
    },
    {
      "cell_type": "code",
      "source": [],
      "metadata": {
        "id": "smlr2tvtfMqZ"
      },
      "execution_count": null,
      "outputs": []
    }
  ]
}